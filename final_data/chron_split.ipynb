{
 "cells": [
  {
   "cell_type": "code",
   "execution_count": 2,
   "metadata": {},
   "outputs": [],
   "source": [
    "import pandas as pd\n",
    "filename = 'past_matches_results.csv'"
   ]
  },
  {
   "cell_type": "code",
   "execution_count": 16,
   "metadata": {},
   "outputs": [],
   "source": [
    "df = pd.read_csv(filename)\n",
    "# competition_id = 98\n",
    "season = 2017\n",
    "# df = df[df.competition_id == competition_id]\n",
    "df = df[df.season_id == season]\n",
    "cutoff = sorted(df.date)[-(len(df.date) // 10)]\n",
    "df_train = df[df.date < cutoff]\n",
    "df_test = df[df.date >= cutoff]\n",
    "df_train.to_csv('chron/all_' + str(season) + '_train.csv')\n",
    "df_test.to_csv('chron/all_' + str(season) + '_test.csv')"
   ]
  },
  {
   "cell_type": "code",
   "execution_count": null,
   "metadata": {
    "collapsed": true
   },
   "outputs": [],
   "source": []
  }
 ],
 "metadata": {
  "kernelspec": {
   "display_name": "Python 3",
   "language": "python",
   "name": "python3"
  },
  "language_info": {
   "codemirror_mode": {
    "name": "ipython",
    "version": 3
   },
   "file_extension": ".py",
   "mimetype": "text/x-python",
   "name": "python",
   "nbconvert_exporter": "python",
   "pygments_lexer": "ipython3",
   "version": "3.6.1"
  }
 },
 "nbformat": 4,
 "nbformat_minor": 2
}
