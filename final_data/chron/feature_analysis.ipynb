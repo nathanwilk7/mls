{
 "cells": [
  {
   "cell_type": "code",
   "execution_count": 40,
   "metadata": {},
   "outputs": [],
   "source": [
    "import pandas as pd\n",
    "from sklearn import feature_selection\n",
    "df = pd.read_csv('all_2017_train.csv')\n",
    "df = df.drop('home_team_name', axis=1)\n",
    "df = df.drop('away_team_name', axis=1)\n",
    "df = df.drop('outcome', axis=1)\n",
    "x = df\n",
    "num = x._get_numeric_data()\n",
    "num[num < 0] = 0\n",
    "y = df.home_result\n",
    "chi, pvals = feature_selection.chi2(x, y)"
   ]
  },
  {
   "cell_type": "code",
   "execution_count": 37,
   "metadata": {},
   "outputs": [],
   "source": [
    "# x"
   ]
  },
  {
   "cell_type": "code",
   "execution_count": 41,
   "metadata": {},
   "outputs": [
    {
     "name": "stdout",
     "output_type": "stream",
     "text": [
      "[5.3454585063355937e-20, 1.4534758210077588e-17, 1.6643069929362207e-05, 0.0058051224202112913, 3.2550298881601026e-05, 0.004034281538875706, 2.148613693026235e-05, 9.1408142492479936e-05, 4.2700982310662873e-08, 1.2617968051355669e-22, 0.0095739238805298485, 6.626143960940849e-10, 1.3197831796529276e-05, 7.4446404374760222e-07, 5.3211772994460722e-07, 1.4352855586372593e-05, 0.00041888183696769444, 0.0064191890749814885, 1.6898664221687909e-09, 3.0600477854226083e-20, 0.001644274887071317, 0.002668272049731911, 0.00032821446005038913, 0.0039204545023276312, 0.0043095831078220652, 0.0067196887682578138, 8.7174769885973674e-06, 0.0057573928244211165, 0.00063159123109100671, 0.0017689879944616299, 2.2728260952835847e-05, 1.5577691267551084e-05, 0.00024843453656043336, 1.7004036007099102e-08, 2.3083790118582795e-28, 7.1092134718673275e-18, 0.0, 1.5770323094680965e-119, 1.6038197920526219e-144, 3.1990067021875005e-24, 7.9304503713799314e-50]\n",
      "['Unnamed: 0', 'home_away_accurate_back_zone_pass', 'home_away_ball_recovery', 'home_away_failed_back_zone_pass', 'home_away_failed_fwd_zone_pass', 'home_away_goals_conceded_ibox', 'home_away_long_pass_own_to_opp', 'home_away_long_pass_own_to_opp_success', 'home_away_successful_final_third_passes', 'home_away_total_fwd_zone_pass', 'home_away_won_tackle', 'home_home_accurate_back_zone_pass', 'home_home_ball_recovery', 'home_home_failed_fwd_zone_pass', 'home_home_goals_conceded_obox', 'home_home_long_pass_own_to_opp', 'home_home_long_pass_own_to_opp_success', 'home_home_lost_contest', 'home_home_successful_final_third_passes', 'home_home_total_fwd_zone_pass', 'home_home_won_tackle', 'home_past_wins', 'home_past_ties', 'away_away_outofplayconceded_f24', 'away_away_accurate_back_zone_pass', 'away_away_ball_recovery', 'away_away_failed_fwd_zone_pass', 'away_away_head_clearance', 'away_home_outofplayconceded_f24', 'away_home_ball_recovery', 'away_home_failed_fwd_zone_pass', 'away_home_long_pass_own_to_opp', 'away_home_successful_final_third_passes', 'away_home_total_fwd_zone_pass', 'home_result', 'away_result', 'date', 'match_id', 'competition_id', 'score_home', 'score_away']\n"
     ]
    }
   ],
   "source": [
    "sig_is = []\n",
    "pvalues = []\n",
    "for i in range(len(pvals)):\n",
    "    if pvals[i] < 0.01:\n",
    "        sig_is.append(i)\n",
    "        pvalues.append(pvals[i])\n",
    "print(pvalues)\n",
    "print(list(df.iloc[:,sig_is]))\n",
    "# df\n",
    "# home_past_ties\n",
    "# away_away_successful_final_third_passes\n",
    "# away_away_total_fwd_zone_pass"
   ]
  },
  {
   "cell_type": "code",
   "execution_count": null,
   "metadata": {
    "collapsed": true
   },
   "outputs": [],
   "source": []
  }
 ],
 "metadata": {
  "kernelspec": {
   "display_name": "Python 3",
   "language": "python",
   "name": "python3"
  },
  "language_info": {
   "codemirror_mode": {
    "name": "ipython",
    "version": 3
   },
   "file_extension": ".py",
   "mimetype": "text/x-python",
   "name": "python",
   "nbconvert_exporter": "python",
   "pygments_lexer": "ipython3",
   "version": "3.6.1"
  }
 },
 "nbformat": 4,
 "nbformat_minor": 2
}
