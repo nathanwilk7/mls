{
 "cells": [
  {
   "cell_type": "code",
   "execution_count": null,
   "metadata": {
    "collapsed": true
   },
   "outputs": [],
   "source": [
    "import pandas as pd\n",
    "import pdb\n",
    "\n",
    "def get_teams_season_past_matches(filepath, team, season, date):\n",
    "    matches = pd.read_csv(filepath)\n",
    "    home_team_matches = matches[matches.home_team_name == team]\n",
    "    \n",
    "    home_team_matches_home = home_team_matches[home_team_matches.home_team_name == team]\n",
    "    home_team_matches_away = home_team_matches[home_team_matches.away_team_name == team]\n",
    "    \n",
    "    home_team_matches_home.drop('home_team_name')\n",
    "    home_team_matches_home.drop('away_team_name')\n",
    "    home_team_matches_away.drop('home_team_name')\n",
    "    home_team_matches_away.drop('away_team_name')\n",
    "    \n",
    "    sum_home_team_matches_home = home_team_matches_home.sum()\n",
    "    sum_home_team_matches_away = home_team_matches_away.sum()\n",
    "    sum_home_team_matches = sum_home_team_matches_home + sum_home_team_matches_away\n",
    "\n",
    "    home_num_matches = home_team_matches_home.shape[0] + home_team_matches_away.shape[0]\n",
    "    if home_num_matches > 0:\n",
    "        avg_home_team_matches = sum_home_team_matches / home_num_matches\n",
    "    else:\n",
    "        avg_home_team_matches = sum_home_team_matches\n",
    "        \n",
    "    away_team_matches = matches[matches.away_team_name == team]\n",
    "    \n",
    "    away_team_matches_home = away_team_matches[away_team_matches.home_team_name == team]\n",
    "    away_team_matches_away = away_team_matches[away_team_matches.away_team_name == team]\n",
    "    \n",
    "    away_team_matches_home.drop('home_team_name')\n",
    "    away_team_matches_home.drop('away_team_name')\n",
    "    away_team_matches_away.drop('home_team_name')\n",
    "    away_team_matches_away.drop('away_team_name')\n",
    "    \n",
    "    sum_away_team_matches_home = away_team_matches_home.sum()\n",
    "    sum_away_team_matches_away = away_team_matches_away.sum()\n",
    "    sum_away_team_matches = sum_away_team_matches_home + sum_away_team_matches_away\n",
    "\n",
    "    away_num_matches = away_team_matches_home.shape[0] + away_team_matches_away.shape[0]\n",
    "    if away_num_matches > 0:\n",
    "        avg_away_team_matches = sum_away_team_matches / away_num_matches\n",
    "    else:\n",
    "        avg_away_team_matches = sum_away_team_matches\n",
    "    \n",
    "    avg_team_matches = avg_home_team_matches + avg_away_team_matches\n",
    "    return avg_team_matches, avg_home_team_matches, avg_away_team_matches\n",
    "#     seasons_matches = avg_team_matches[team_matches.season_id == season]\n",
    "#     past_matches = seasons_matches[seasons_matches.date < date]\n",
    "#     return past_matches"
   ]
  },
  {
   "cell_type": "code",
   "execution_count": null,
   "metadata": {
    "collapsed": true
   },
   "outputs": [],
   "source": [
    "def get_matches(filepath):\n",
    "    matches = pd.read_csv(filepath)\n",
    "    return matches\n",
    "\n",
    "def get_teams_matches(filepath, team):\n",
    "    matches = pd.read_csv(filepath)\n",
    "    team_matches = matches[(matches.home_team_name == team) | (matches.away_team_name == team)]\n",
    "    return team_matches"
   ]
  }
 ],
 "metadata": {
  "kernelspec": {
   "display_name": "Python 3",
   "language": "python",
   "name": "python3"
  },
  "language_info": {
   "codemirror_mode": {
    "name": "ipython",
    "version": 3
   },
   "file_extension": ".py",
   "mimetype": "text/x-python",
   "name": "python",
   "nbconvert_exporter": "python",
   "pygments_lexer": "ipython3",
   "version": "3.6.1"
  }
 },
 "nbformat": 4,
 "nbformat_minor": 2
}
